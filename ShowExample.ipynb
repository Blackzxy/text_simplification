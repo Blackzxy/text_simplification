{
 "cells": [
  {
   "cell_type": "code",
   "execution_count": 1,
   "metadata": {},
   "outputs": [
    {
     "name": "stderr",
     "output_type": "stream",
     "text": [
      "[nltk_data] Downloading package stopwords to\n",
      "[nltk_data]     C:\\Users\\z1325\\AppData\\Roaming\\nltk_data...\n",
      "[nltk_data]   Package stopwords is already up-to-date!\n",
      "[nltk_data] Downloading package punkt to\n",
      "[nltk_data]     C:\\Users\\z1325\\AppData\\Roaming\\nltk_data...\n",
      "[nltk_data]   Package punkt is already up-to-date!\n"
     ]
    }
   ],
   "source": [
    "from preprocessor import RESOURCES_DIR\n",
    "import pathlib\n",
    "temp = pathlib.PosixPath\n",
    "pathlib.PosixPath = pathlib.WindowsPath\n",
    "from Ts_T5 import T5FineTuner\n",
    "checkpoint_file = RESOURCES_DIR / 'checkpoint-epoch=1.ckpt'"
   ]
  },
  {
   "cell_type": "code",
   "execution_count": 2,
   "metadata": {},
   "outputs": [],
   "source": [
    "model = T5FineTuner.load_from_checkpoint(checkpoint_file)"
   ]
  },
  {
   "cell_type": "code",
   "execution_count": 3,
   "metadata": {},
   "outputs": [],
   "source": [
    "file_path = RESOURCES_DIR / 'wiki_paragh' / 'wiki_paragh.valid.complex'"
   ]
  },
  {
   "cell_type": "code",
   "execution_count": 4,
   "metadata": {},
   "outputs": [
    {
     "data": {
      "text/plain": [
       "WindowsPath('C:/Users/z1325/Desktop/NLP_Torch/text-summarization/GitHub_T5/resources/wiki_paragh/wiki_paragh.valid.complex')"
      ]
     },
     "execution_count": 4,
     "metadata": {},
     "output_type": "execute_result"
    }
   ],
   "source": [
    "file_path"
   ]
  },
  {
   "cell_type": "code",
   "execution_count": 5,
   "metadata": {},
   "outputs": [
    {
     "data": {
      "text/html": [
       "<div>\n",
       "<style scoped>\n",
       "    .dataframe tbody tr th:only-of-type {\n",
       "        vertical-align: middle;\n",
       "    }\n",
       "\n",
       "    .dataframe tbody tr th {\n",
       "        vertical-align: top;\n",
       "    }\n",
       "\n",
       "    .dataframe thead th {\n",
       "        text-align: right;\n",
       "    }\n",
       "</style>\n",
       "<table border=\"1\" class=\"dataframe\">\n",
       "  <thead>\n",
       "    <tr style=\"text-align: right;\">\n",
       "      <th></th>\n",
       "      <th>0</th>\n",
       "    </tr>\n",
       "  </thead>\n",
       "  <tbody>\n",
       "    <tr>\n",
       "      <th>0</th>\n",
       "      <td>Villemotier is a commune in the Ain department...</td>\n",
       "    </tr>\n",
       "    <tr>\n",
       "      <th>1</th>\n",
       "      <td>Queen 's Counsel -LRB- postnominal QC -RRB- , ...</td>\n",
       "    </tr>\n",
       "    <tr>\n",
       "      <th>2</th>\n",
       "      <td>The Aidi or Chien de l'Atlas is a Moroccan dog...</td>\n",
       "    </tr>\n",
       "    <tr>\n",
       "      <th>3</th>\n",
       "      <td>Lviv Airlines has its head office on the groun...</td>\n",
       "    </tr>\n",
       "    <tr>\n",
       "      <th>4</th>\n",
       "      <td>They stayed at Penarth , where he painted at l...</td>\n",
       "    </tr>\n",
       "  </tbody>\n",
       "</table>\n",
       "</div>"
      ],
      "text/plain": [
       "                                                   0\n",
       "0  Villemotier is a commune in the Ain department...\n",
       "1  Queen 's Counsel -LRB- postnominal QC -RRB- , ...\n",
       "2  The Aidi or Chien de l'Atlas is a Moroccan dog...\n",
       "3  Lviv Airlines has its head office on the groun...\n",
       "4  They stayed at Penarth , where he painted at l..."
      ]
     },
     "execution_count": 5,
     "metadata": {},
     "output_type": "execute_result"
    }
   ],
   "source": [
    "import pandas as pd\n",
    "wiki_paragh_valid_complex = pd.read_csv('resources\\datasets\\wiki_paragh\\wiki_paragh.valid.complex', sep = '\\t',header = None)\n",
    "wiki_paragh_valid_complex.head()"
   ]
  },
  {
   "cell_type": "code",
   "execution_count": 6,
   "metadata": {},
   "outputs": [
    {
     "data": {
      "text/html": [
       "<div>\n",
       "<style scoped>\n",
       "    .dataframe tbody tr th:only-of-type {\n",
       "        vertical-align: middle;\n",
       "    }\n",
       "\n",
       "    .dataframe tbody tr th {\n",
       "        vertical-align: top;\n",
       "    }\n",
       "\n",
       "    .dataframe thead th {\n",
       "        text-align: right;\n",
       "    }\n",
       "</style>\n",
       "<table border=\"1\" class=\"dataframe\">\n",
       "  <thead>\n",
       "    <tr style=\"text-align: right;\">\n",
       "      <th></th>\n",
       "      <th>0</th>\n",
       "    </tr>\n",
       "  </thead>\n",
       "  <tbody>\n",
       "    <tr>\n",
       "      <th>0</th>\n",
       "      <td>Villemotier is a commune .</td>\n",
       "    </tr>\n",
       "    <tr>\n",
       "      <th>1</th>\n",
       "      <td>Queen 's Counsel -LRB- postnominal QC -RRB- , ...</td>\n",
       "    </tr>\n",
       "    <tr>\n",
       "      <th>2</th>\n",
       "      <td>The Aidi or Chien de l'Atlas is a Moroccan dog...</td>\n",
       "    </tr>\n",
       "    <tr>\n",
       "      <th>3</th>\n",
       "      <td>Lviv -LRB- Ukrainian : Ð Ñ Ð Ñ -- Ð -RRB- is t...</td>\n",
       "    </tr>\n",
       "    <tr>\n",
       "      <th>4</th>\n",
       "      <td>In 1881 Sisley made one more short trip to Eng...</td>\n",
       "    </tr>\n",
       "  </tbody>\n",
       "</table>\n",
       "</div>"
      ],
      "text/plain": [
       "                                                   0\n",
       "0                         Villemotier is a commune .\n",
       "1  Queen 's Counsel -LRB- postnominal QC -RRB- , ...\n",
       "2  The Aidi or Chien de l'Atlas is a Moroccan dog...\n",
       "3  Lviv -LRB- Ukrainian : Ð Ñ Ð Ñ -- Ð -RRB- is t...\n",
       "4  In 1881 Sisley made one more short trip to Eng..."
      ]
     },
     "execution_count": 6,
     "metadata": {},
     "output_type": "execute_result"
    }
   ],
   "source": [
    "wiki_paragh_valid_simple = pd.read_csv('resources\\datasets\\wiki_paragh\\wiki_paragh.valid.simple', sep='\\t',header=None)\n",
    "wiki_paragh_valid_simple.head()"
   ]
  },
  {
   "cell_type": "code",
   "execution_count": 7,
   "metadata": {},
   "outputs": [
    {
     "data": {
      "text/plain": [
       "'Villemotier is a commune .'"
      ]
     },
     "execution_count": 7,
     "metadata": {},
     "output_type": "execute_result"
    }
   ],
   "source": [
    "wiki_paragh_valid_simple.iloc[0,0]"
   ]
  },
  {
   "cell_type": "code",
   "execution_count": 9,
   "metadata": {},
   "outputs": [],
   "source": [
    "# compare_df = {\n",
    "#     'document':[],\n",
    "#     'generation':[],\n",
    "#     'true simplification':[]\n",
    "# }\n",
    "compare_df = []\n",
    "cnt = 0\n",
    "for idx, row in wiki_paragh_valid_complex.iterrows():\n",
    "    tmp = wiki_paragh_valid_complex.iloc[idx,0]\n",
    "    gen = model.generate(tmp)\n",
    "    true_sim = wiki_paragh_valid_simple.iloc[idx,0]\n",
    "    compare_df.append([tmp, gen, true_sim])\n",
    "    cnt += 1\n",
    "    if cnt>=10:\n",
    "        break\n",
    "compare_df = pd.DataFrame(compare_df, columns=['doc','gen','true_simple'])    "
   ]
  },
  {
   "cell_type": "code",
   "execution_count": 19,
   "metadata": {},
   "outputs": [
    {
     "data": {
      "text/html": [
       "<div>\n",
       "<style scoped>\n",
       "    .dataframe tbody tr th:only-of-type {\n",
       "        vertical-align: middle;\n",
       "    }\n",
       "\n",
       "    .dataframe tbody tr th {\n",
       "        vertical-align: top;\n",
       "    }\n",
       "\n",
       "    .dataframe thead th {\n",
       "        text-align: right;\n",
       "    }\n",
       "</style>\n",
       "<table border=\"1\" class=\"dataframe\">\n",
       "  <thead>\n",
       "    <tr style=\"text-align: right;\">\n",
       "      <th></th>\n",
       "      <th>doc</th>\n",
       "      <th>gen</th>\n",
       "      <th>true_simple</th>\n",
       "    </tr>\n",
       "  </thead>\n",
       "  <tbody>\n",
       "    <tr>\n",
       "      <th>0</th>\n",
       "      <td>Villemotier is a commune in the Ain department...</td>\n",
       "      <td>Villemotier is a commune of the Ain department...</td>\n",
       "      <td>Villemotier is a commune .</td>\n",
       "    </tr>\n",
       "    <tr>\n",
       "      <th>1</th>\n",
       "      <td>Queen 's Counsel -LRB- postnominal QC -RRB- , ...</td>\n",
       "      <td>Queen's Counsel -LRB- postnominal QC -RRB-, kn...</td>\n",
       "      <td>Queen 's Counsel -LRB- postnominal QC -RRB- , ...</td>\n",
       "    </tr>\n",
       "    <tr>\n",
       "      <th>2</th>\n",
       "      <td>The Aidi or Chien de l'Atlas is a Moroccan dog...</td>\n",
       "      <td>The Aidi or Chien de l'Atlas is a Moroccan dog...</td>\n",
       "      <td>The Aidi or Chien de l'Atlas is a Moroccan dog...</td>\n",
       "    </tr>\n",
       "    <tr>\n",
       "      <th>3</th>\n",
       "      <td>Lviv Airlines has its head office on the groun...</td>\n",
       "      <td>Lviv Airlines has its head office on the groun...</td>\n",
       "      <td>Lviv -LRB- Ukrainian : Ð Ñ Ð Ñ -- Ð -RRB- is t...</td>\n",
       "    </tr>\n",
       "    <tr>\n",
       "      <th>4</th>\n",
       "      <td>They stayed at Penarth , where he painted at l...</td>\n",
       "      <td>They stayed at Penarth, where he painted at le...</td>\n",
       "      <td>In 1881 Sisley made one more short trip to Eng...</td>\n",
       "    </tr>\n",
       "    <tr>\n",
       "      <th>5</th>\n",
       "      <td>It contained hits `` Munich '' and `` Blood ''...</td>\n",
       "      <td>It contained hits  Munich '' and  Blood '' and...</td>\n",
       "      <td>It had hit songs such as `` Munich '' and `` B...</td>\n",
       "    </tr>\n",
       "    <tr>\n",
       "      <th>6</th>\n",
       "      <td>The LVR run tourist trains , mainly from Cowra...</td>\n",
       "      <td>The LVR run tourist trains, mostly from Cowra ...</td>\n",
       "      <td>The LVR run tourist trains , mainly from Cowra...</td>\n",
       "    </tr>\n",
       "    <tr>\n",
       "      <th>7</th>\n",
       "      <td>The calibration procedure is still required at...</td>\n",
       "      <td>The calibration procedure is still required at...</td>\n",
       "      <td>The calibration procedure is still needed at s...</td>\n",
       "    </tr>\n",
       "    <tr>\n",
       "      <th>8</th>\n",
       "      <td>A gender identity is the way in which an indiv...</td>\n",
       "      <td>A gender identity is the way in which an indiv...</td>\n",
       "      <td>Gender or Gender Identity is how a person feel...</td>\n",
       "    </tr>\n",
       "    <tr>\n",
       "      <th>9</th>\n",
       "      <td>Deep in the shady sadness of a vale , Far sunk...</td>\n",
       "      <td>Deep in the shady sadness of a vale, Far sunke...</td>\n",
       "      <td>Deep in the shady sadness of a vale Far sunken...</td>\n",
       "    </tr>\n",
       "  </tbody>\n",
       "</table>\n",
       "</div>"
      ],
      "text/plain": [
       "                                                 doc  \\\n",
       "0  Villemotier is a commune in the Ain department...   \n",
       "1  Queen 's Counsel -LRB- postnominal QC -RRB- , ...   \n",
       "2  The Aidi or Chien de l'Atlas is a Moroccan dog...   \n",
       "3  Lviv Airlines has its head office on the groun...   \n",
       "4  They stayed at Penarth , where he painted at l...   \n",
       "5  It contained hits `` Munich '' and `` Blood ''...   \n",
       "6  The LVR run tourist trains , mainly from Cowra...   \n",
       "7  The calibration procedure is still required at...   \n",
       "8  A gender identity is the way in which an indiv...   \n",
       "9  Deep in the shady sadness of a vale , Far sunk...   \n",
       "\n",
       "                                                 gen  \\\n",
       "0  Villemotier is a commune of the Ain department...   \n",
       "1  Queen's Counsel -LRB- postnominal QC -RRB-, kn...   \n",
       "2  The Aidi or Chien de l'Atlas is a Moroccan dog...   \n",
       "3  Lviv Airlines has its head office on the groun...   \n",
       "4  They stayed at Penarth, where he painted at le...   \n",
       "5  It contained hits  Munich '' and  Blood '' and...   \n",
       "6  The LVR run tourist trains, mostly from Cowra ...   \n",
       "7  The calibration procedure is still required at...   \n",
       "8  A gender identity is the way in which an indiv...   \n",
       "9  Deep in the shady sadness of a vale, Far sunke...   \n",
       "\n",
       "                                         true_simple  \n",
       "0                         Villemotier is a commune .  \n",
       "1  Queen 's Counsel -LRB- postnominal QC -RRB- , ...  \n",
       "2  The Aidi or Chien de l'Atlas is a Moroccan dog...  \n",
       "3  Lviv -LRB- Ukrainian : Ð Ñ Ð Ñ -- Ð -RRB- is t...  \n",
       "4  In 1881 Sisley made one more short trip to Eng...  \n",
       "5  It had hit songs such as `` Munich '' and `` B...  \n",
       "6  The LVR run tourist trains , mainly from Cowra...  \n",
       "7  The calibration procedure is still needed at s...  \n",
       "8  Gender or Gender Identity is how a person feel...  \n",
       "9  Deep in the shady sadness of a vale Far sunken...  "
      ]
     },
     "execution_count": 19,
     "metadata": {},
     "output_type": "execute_result"
    }
   ],
   "source": [
    "compare_df"
   ]
  },
  {
   "cell_type": "markdown",
   "metadata": {},
   "source": [
    "## Random Examples"
   ]
  },
  {
   "cell_type": "code",
   "execution_count": 40,
   "metadata": {},
   "outputs": [
    {
     "data": {
      "text/plain": [
       "'It is a bird of large inland and coastal waters, especially large lakes. It breeds in southern Asia from southern Pakistan across India east to Indonesia. The Spot-billed Pelican -LRB- Pelecanus philippensis -RRB- is a member of the pelican family.'"
      ]
     },
     "execution_count": 40,
     "metadata": {},
     "output_type": "execute_result"
    }
   ],
   "source": [
    "rand_loc = 1301\n",
    "tmp = wiki_paragh_valid_complex.iloc[rand_loc,0]\n",
    "model.generate(tmp)"
   ]
  },
  {
   "cell_type": "code",
   "execution_count": 41,
   "metadata": {},
   "outputs": [
    {
     "data": {
      "text/plain": [
       "'It is a bird of large inland and coastal waters , especially large lakes . It breeds in southern Asia from southern Pakistan across India east to Indonesia . The Spot-billed Pelican or Grey Pelican -LRB- Pelecanus philippensis -RRB- is a member of the pelican family .'"
      ]
     },
     "execution_count": 41,
     "metadata": {},
     "output_type": "execute_result"
    }
   ],
   "source": [
    "#complex sentence\n",
    "tmp"
   ]
  },
  {
   "cell_type": "code",
   "execution_count": 42,
   "metadata": {},
   "outputs": [
    {
     "data": {
      "text/plain": [
       "'It is a bird of large inland and coastal waters , especially shallow lakes . It breeds in southern Asia from southern Pakistan . The Spot-billed Pelican -LRB- Pelecanus philippensis -RRB- is a member of the pelican family .'"
      ]
     },
     "execution_count": 42,
     "metadata": {},
     "output_type": "execute_result"
    }
   ],
   "source": [
    "#simple sentence\n",
    "wiki_paragh_valid_simple.iloc[rand_loc,0]"
   ]
  },
  {
   "cell_type": "markdown",
   "metadata": {},
   "source": [
    "## ---------------------"
   ]
  },
  {
   "cell_type": "code",
   "execution_count": 46,
   "metadata": {},
   "outputs": [
    {
     "data": {
      "text/plain": [
       "'Pescara is a province in the region of Abruzzo in Italy.'"
      ]
     },
     "execution_count": 46,
     "metadata": {},
     "output_type": "execute_result"
    }
   ],
   "source": [
    "tmp = wiki_paragh_valid_complex.iloc[403,0]\n",
    "model.generate(tmp)"
   ]
  },
  {
   "cell_type": "code",
   "execution_count": 47,
   "metadata": {},
   "outputs": [
    {
     "data": {
      "text/plain": [
       "'The Province of Pescara is a province in the Abruzzo region of Italy .'"
      ]
     },
     "execution_count": 47,
     "metadata": {},
     "output_type": "execute_result"
    }
   ],
   "source": [
    "#complex sentence\n",
    "tmp"
   ]
  },
  {
   "cell_type": "code",
   "execution_count": 48,
   "metadata": {},
   "outputs": [
    {
     "data": {
      "text/plain": [
       "'Pescara is a province in the region of Abruzzo in Italy .'"
      ]
     },
     "execution_count": 48,
     "metadata": {},
     "output_type": "execute_result"
    }
   ],
   "source": [
    "#simple sentence\n",
    "wiki_paragh_valid_simple.iloc[403,0]"
   ]
  },
  {
   "cell_type": "markdown",
   "metadata": {},
   "source": [
    "## --------------------------"
   ]
  },
  {
   "cell_type": "code",
   "execution_count": 53,
   "metadata": {},
   "outputs": [
    {
     "data": {
      "text/plain": [
       "'Whether Vanunu was truly involved in espionage, per se, is debated : Vanunu and his supporters claim that he should be regarded as a whistle-blower -LRB- someone who was exposing a secretive and illegal practice -RRB-, while his opponents see him as a traitor and his divulgence of information as aiding enemies of the Israeli state. Vanunu did not immediately release his information and photos on leaving Israel, traveling for about a year before doing so.'"
      ]
     },
     "execution_count": 53,
     "metadata": {},
     "output_type": "execute_result"
    }
   ],
   "source": [
    "tmp = wiki_paragh_valid_complex.iloc[2083,0]\n",
    "model.generate(tmp)"
   ]
  },
  {
   "cell_type": "code",
   "execution_count": 54,
   "metadata": {},
   "outputs": [
    {
     "data": {
      "text/plain": [
       "'Whether Vanunu was truly involved in espionage , per se , is debated : Vanunu and his supporters claim that he should be regarded as a whistle-blower -LRB- someone who was exposing a secretive and illegal practice -RRB- , while his opponents see him as a traitor and his divulgence of information as aiding enemies of the Israeli state . Vanunu did not immediately release his information and photos on leaving Israel , traveling for about a year before doing so .'"
      ]
     },
     "execution_count": 54,
     "metadata": {},
     "output_type": "execute_result"
    }
   ],
   "source": [
    "#complex sentence\n",
    "tmp"
   ]
  },
  {
   "cell_type": "code",
   "execution_count": 55,
   "metadata": {},
   "outputs": [
    {
     "data": {
      "text/plain": [
       "'Whether Vanunu was technically involved in espionage is debated : Vanunu and his supporters say that he should be called as a whistle-blower -LRB- someone who was exposing something secret and illegal -RRB- , while his opponents think that he is a traitor and that what he did helped enemies of Israel . After Vanunu left Israel , he did not give his information right away . He traveled for about a year before doing so .'"
      ]
     },
     "execution_count": 55,
     "metadata": {},
     "output_type": "execute_result"
    }
   ],
   "source": [
    "#simple sentence\n",
    "wiki_paragh_valid_simple.iloc[2083,0]"
   ]
  },
  {
   "cell_type": "markdown",
   "metadata": {},
   "source": [
    "## -------------------------"
   ]
  },
  {
   "cell_type": "code",
   "execution_count": 60,
   "metadata": {},
   "outputs": [
    {
     "data": {
      "text/plain": [
       "'There are about 90 islets and reefs, volcanic rocks formed in the Cenozoic era. A total of 37 of these islets are recognized as permanent land.'"
      ]
     },
     "execution_count": 60,
     "metadata": {},
     "output_type": "execute_result"
    }
   ],
   "source": [
    "tmp = wiki_paragh_valid_complex.iloc[3001,0]\n",
    "model.generate(tmp)"
   ]
  },
  {
   "cell_type": "code",
   "execution_count": 61,
   "metadata": {},
   "outputs": [
    {
     "data": {
      "text/plain": [
       "'Altogether , there are about 90 islets and reefs , volcanic rocks formed in the Cenozoic era , more specifically 4.6 to 2.0 million years ago . A total of 37 of these islets are recognized as permanent land .'"
      ]
     },
     "execution_count": 61,
     "metadata": {},
     "output_type": "execute_result"
    }
   ],
   "source": [
    "#complex sentence\n",
    "tmp"
   ]
  },
  {
   "cell_type": "code",
   "execution_count": 59,
   "metadata": {},
   "outputs": [
    {
     "data": {
      "text/plain": [
       "'Altogether , there are about 90 islets and reefs . The islands and rocks have a volcanic nature . A total of 37 of these islets are recognized as permanent land .'"
      ]
     },
     "execution_count": 59,
     "metadata": {},
     "output_type": "execute_result"
    }
   ],
   "source": [
    "#simple sentence\n",
    "wiki_paragh_valid_simple.iloc[3001,0]"
   ]
  }
 ],
 "metadata": {
  "interpreter": {
   "hash": "8fc2a2b2de6b8539fca743e4b0e26099ae998073a585b84722c212cca65759b6"
  },
  "kernelspec": {
   "display_name": "Python 3.8.12 ('pythonProject1')",
   "language": "python",
   "name": "python3"
  },
  "language_info": {
   "codemirror_mode": {
    "name": "ipython",
    "version": 3
   },
   "file_extension": ".py",
   "mimetype": "text/x-python",
   "name": "python",
   "nbconvert_exporter": "python",
   "pygments_lexer": "ipython3",
   "version": "3.8.5"
  },
  "orig_nbformat": 4
 },
 "nbformat": 4,
 "nbformat_minor": 2
}
